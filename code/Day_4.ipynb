{
 "cells": [
  {
   "cell_type": "markdown",
   "metadata": {},
   "source": [
    "# 100DaysOfCode Day-4\n",
    "\n",
    "## Dictionary core data type\n",
    "* are not sequences\n",
    "* are known as mappings\n",
    "* mapping are also collections of objects but store objects by 'key' instead of relative position\n",
    "* no left-to right order\n",
    "* are mutable\n",
    "* are coded in curly braces {} and consist of a series of \"key: value\" pairs.\n",
    "* are useful when a) we need to assiciate set of values with keys, b) to describe properties of something\n",
    "* can index dictionary by 'key' to fetch and change the key's associated values\n",
    "* dictionaries can be created in many forms, some are below:\n",
    "  * using curly braces {'key':'value'}\n",
    "  * dict('key':'value')\n",
    "  * dict(zip(['key1', 'key2', ..],['value1', 'value2', ..]))\n",
    "  * start with empty curly brcaes  D = {} and then add on key values\n",
    "* dictionaries also support nesting \n"
   ]
  },
  {
   "cell_type": "code",
   "execution_count": 1,
   "metadata": {
    "collapsed": false
   },
   "outputs": [
    {
     "data": {
      "text/plain": [
       "{'food': 'biryani', 'sideItem': 'chickpeas', 'soda': 'coke'}"
      ]
     },
     "execution_count": 1,
     "metadata": {},
     "output_type": "execute_result"
    }
   ],
   "source": [
    "##les create a dictionary of 'menu order'\n",
    "D = {'food':'biryani', 'sideItem':\"chickpeas\", 'soda':\"coke\"}\n",
    "D"
   ]
  },
  {
   "cell_type": "code",
   "execution_count": 2,
   "metadata": {
    "collapsed": false
   },
   "outputs": [
    {
     "name": "stdout",
     "output_type": "stream",
     "text": [
      "biryani\n"
     ]
    },
    {
     "data": {
      "text/plain": [
       "{'food': 'shawarma', 'sideItem': 'chickpeas', 'soda': 'coke'}"
      ]
     },
     "execution_count": 2,
     "metadata": {},
     "output_type": "execute_result"
    }
   ],
   "source": [
    "## lets fetch and change a value\n",
    "print( D['food'] )\n",
    "\n",
    "D['food'] = 'shawarma'\n",
    "\n",
    "D"
   ]
  },
  {
   "cell_type": "code",
   "execution_count": 3,
   "metadata": {
    "collapsed": false
   },
   "outputs": [
    {
     "data": {
      "text/plain": [
       "{'ACV': 1, 'apples': 2}"
      ]
     },
     "execution_count": 3,
     "metadata": {},
     "output_type": "execute_result"
    }
   ],
   "source": [
    "## an alternate way to build up dictonary\n",
    "X = {}\n",
    "X['apples'] = 2\n",
    "X['ACV'] = 1\n",
    "X"
   ]
  },
  {
   "cell_type": "code",
   "execution_count": 4,
   "metadata": {
    "collapsed": false
   },
   "outputs": [
    {
     "data": {
      "text/plain": [
       "{'ACV': 1, 'apples': 7}"
      ]
     },
     "execution_count": 4,
     "metadata": {},
     "output_type": "execute_result"
    }
   ],
   "source": [
    "## lets change quantity of X \n",
    "X['apples'] +=5\n",
    "X"
   ]
  },
  {
   "cell_type": "code",
   "execution_count": 5,
   "metadata": {
    "collapsed": false
   },
   "outputs": [
    {
     "data": {
      "text/plain": [
       "{'height': '6', 'name': 'Joe', 'weight': 140}"
      ]
     },
     "execution_count": 5,
     "metadata": {},
     "output_type": "execute_result"
    }
   ],
   "source": [
    "## we can also make dictionary by passing to the dict type name\n",
    "\n",
    "Y = dict(name='Joe', height='6', weight= 140)\n",
    "Y"
   ]
  },
  {
   "cell_type": "code",
   "execution_count": 6,
   "metadata": {
    "collapsed": false
   },
   "outputs": [
    {
     "data": {
      "text/plain": [
       "{'height': 5, 'name': 'Doe', 'weight': 180}"
      ]
     },
     "execution_count": 6,
     "metadata": {},
     "output_type": "execute_result"
    }
   ],
   "source": [
    "## another way is to zip together sequnce of keys and values\n",
    "\n",
    "Z = dict(zip(['name', 'height', 'weight'], ['Doe', 5, 180]))\n",
    "Z\n"
   ]
  },
  {
   "cell_type": "code",
   "execution_count": 7,
   "metadata": {
    "collapsed": false
   },
   "outputs": [
    {
     "data": {
      "text/plain": [
       "{'age': 50,\n",
       " 'job': ['developer', 'manager'],\n",
       " 'name': {'first': 'Jane', 'last': 'Doe'}}"
      ]
     },
     "execution_count": 7,
     "metadata": {},
     "output_type": "execute_result"
    }
   ],
   "source": [
    "##nesting in dictionaries\n",
    "\n",
    "YY = {'name': {'first':'Jane', 'last':'Doe'},\n",
    "     'job': ['developer', 'manager'], \n",
    "     'age' :50}\n",
    "YY"
   ]
  },
  {
   "cell_type": "code",
   "execution_count": 8,
   "metadata": {
    "collapsed": false
   },
   "outputs": [
    {
     "data": {
      "text/plain": [
       "'Doe'"
      ]
     },
     "execution_count": 8,
     "metadata": {},
     "output_type": "execute_result"
    }
   ],
   "source": [
    "## lets see what's last name\n",
    "YY['name']['last']"
   ]
  },
  {
   "cell_type": "code",
   "execution_count": 9,
   "metadata": {
    "collapsed": false
   },
   "outputs": [
    {
     "data": {
      "text/plain": [
       "'manager'"
      ]
     },
     "execution_count": 9,
     "metadata": {},
     "output_type": "execute_result"
    }
   ],
   "source": [
    "##lets see what was the last job . notice using negative list index\n",
    "YY['job'][-1]"
   ]
  },
  {
   "cell_type": "code",
   "execution_count": 10,
   "metadata": {
    "collapsed": false
   },
   "outputs": [
    {
     "data": {
      "text/plain": [
       "['developer', 'manager', 'owner']"
      ]
     },
     "execution_count": 10,
     "metadata": {},
     "output_type": "execute_result"
    }
   ],
   "source": [
    "## lets add another job \n",
    "\n",
    "YY['job'].append('owner')\n",
    "YY['job']\n",
    "\n",
    "## nested job list is able to expand/shrink because its a separate peice of memory from the dictionary YY"
   ]
  },
  {
   "cell_type": "markdown",
   "metadata": {},
   "source": [
    "## Missing Keys \n",
    "* dictionary supports accessing items by keys only\n",
    "* fetching a non-exsitent key is still a mistake and its usually a programming error \n",
    "* To avoid it one solution is to test ahead of time\n",
    " * the dictionary **in** expression allows to query the exsistence of a key \n",
    " * get method\n",
    " * condional index with a default"
   ]
  },
  {
   "cell_type": "code",
   "execution_count": 11,
   "metadata": {
    "collapsed": false
   },
   "outputs": [
    {
     "name": "stdout",
     "output_type": "stream",
     "text": [
      "{'a': 1, 'b': 2}\n",
      "2\n"
     ]
    }
   ],
   "source": [
    "##lets fetch an item that exsits in the dictionary \n",
    "D ={'a':1, 'b':2}\n",
    "print( D )\n",
    "\n",
    "print( D['b'] )\n"
   ]
  },
  {
   "cell_type": "code",
   "execution_count": 12,
   "metadata": {
    "collapsed": false
   },
   "outputs": [
    {
     "ename": "KeyError",
     "evalue": "'e'",
     "output_type": "error",
     "traceback": [
      "\u001b[0;31m---------------------------------------------------------------------------\u001b[0m",
      "\u001b[0;31mKeyError\u001b[0m                                  Traceback (most recent call last)",
      "\u001b[0;32m<ipython-input-12-efcb295a74df>\u001b[0m in \u001b[0;36m<module>\u001b[0;34m()\u001b[0m\n\u001b[1;32m      1\u001b[0m \u001b[0;31m## lets try to access a non-exsitence key .... oops error\u001b[0m\u001b[0;34m\u001b[0m\u001b[0;34m\u001b[0m\u001b[0m\n\u001b[0;32m----> 2\u001b[0;31m \u001b[0mD\u001b[0m\u001b[0;34m[\u001b[0m\u001b[0;34m'e'\u001b[0m\u001b[0;34m]\u001b[0m\u001b[0;34m\u001b[0m\u001b[0m\n\u001b[0m",
      "\u001b[0;31mKeyError\u001b[0m: 'e'"
     ]
    }
   ],
   "source": [
    "## lets try to access a non-exsitence key .... oops error\n",
    "D['e']"
   ]
  },
  {
   "cell_type": "code",
   "execution_count": 13,
   "metadata": {
    "collapsed": false
   },
   "outputs": [
    {
     "data": {
      "text/plain": [
       "False"
      ]
     },
     "execution_count": 13,
     "metadata": {},
     "output_type": "execute_result"
    }
   ],
   "source": [
    "## lets try to check if 'e' exists in D \n",
    "'e' in D "
   ]
  },
  {
   "cell_type": "code",
   "execution_count": 14,
   "metadata": {
    "collapsed": false
   },
   "outputs": [
    {
     "name": "stdout",
     "output_type": "stream",
     "text": [
      "missing\n"
     ]
    }
   ],
   "source": [
    "## lets check with if and in\n",
    "if 'e' not in D:\n",
    "    print('missing')"
   ]
  },
  {
   "cell_type": "code",
   "execution_count": 15,
   "metadata": {
    "collapsed": false
   },
   "outputs": [
    {
     "name": "stdout",
     "output_type": "stream",
     "text": [
      "1\n",
      "0\n"
     ]
    }
   ],
   "source": [
    "##lets try get with default value of 0  \n",
    "val = D.get('a', 0)\n",
    "print( val )\n",
    "\n",
    "val = D.get('e', 0) ## e is not present\n",
    "print( val )"
   ]
  },
  {
   "cell_type": "markdown",
   "metadata": {},
   "source": [
    "## Sorting \n",
    "* As dictionaries are not sequences, they don't maintain any dependable left to right order\n",
    "* To sort a dictionary by key: get keys, sort them and then step through with for loop\n"
   ]
  },
  {
   "cell_type": "code",
   "execution_count": 17,
   "metadata": {
    "collapsed": false
   },
   "outputs": [
    {
     "data": {
      "text/plain": [
       "{'a': 1, 'b': 2, 'c': 3, 'd': 4}"
      ]
     },
     "execution_count": 17,
     "metadata": {},
     "output_type": "execute_result"
    }
   ],
   "source": [
    "DD = {'a':1, 'b':2, 'c':3, 'd':4}\n",
    "DD"
   ]
  },
  {
   "cell_type": "code",
   "execution_count": 18,
   "metadata": {
    "collapsed": false
   },
   "outputs": [
    {
     "name": "stdout",
     "output_type": "stream",
     "text": [
      "('a', ':', 1)\n",
      "('b', ':', 2)\n",
      "('c', ':', 3)\n",
      "('d', ':', 4)\n"
     ]
    }
   ],
   "source": [
    "##lets sort dictionary                                                                                                                                                     v√√√√√√√ lets sort dict by key\n",
    "sortedKeys = DD.keys()\n",
    "sortedKeys.sort()\n",
    "for key in sortedKeys:\n",
    "    print ( key ,':', DD[key])\n"
   ]
  },
  {
   "cell_type": "markdown",
   "metadata": {},
   "source": [
    "# Some additional notes \n",
    "* list comprehension and for loop are iteration tools. Both work on any iterable object that follows the iteration protocol\n",
    "* An object is **iterable** if it is either a physically stored sequence in memory OR an object that generates one item at a time in the context of iteration protocol\n",
    "* the generator comprehension expression is such an object: its values aren't stored in memory all at once but are produced as requested \n",
    "* every python tool that scans an object from left to right uses the iteration protocol.\n",
    "* list comprehension, filter , map run faster than a for loop\n",
    "* Rule of thumb in python is to code for simplicity and readability first and worry about performance later, after your program is working and after you have proved that there is a genuine performance concern.\n",
    "* time, timeit and profile tools can help check performance... more about it in later chapters"
   ]
  }
 ],
 "metadata": {
  "kernelspec": {
   "display_name": "Python 2",
   "language": "python",
   "name": "python2"
  },
  "language_info": {
   "codemirror_mode": {
    "name": "ipython",
    "version": 2
   },
   "file_extension": ".py",
   "mimetype": "text/x-python",
   "name": "python",
   "nbconvert_exporter": "python",
   "pygments_lexer": "ipython2",
   "version": "2.7.13"
  }
 },
 "nbformat": 4,
 "nbformat_minor": 2
}
