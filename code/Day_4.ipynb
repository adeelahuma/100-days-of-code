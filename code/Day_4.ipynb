{
 "cells": [
  {
   "cell_type": "markdown",
   "metadata": {},
   "source": [
    "# 100DaysOfCode Day-4\n",
    "\n",
    "## Dictionaries \n",
    "- are not sequences\n",
    "- are known as mappings\n",
    "- mapping are also collections of objects but store objects by 'key' instead of relative position\n",
    "- no left-to right order\n",
    "- are mutable\n",
    "- are code in curly braces {} and consist of a series of \"key: value\" pairs.\n",
    "- are useful when we need to assiciate set of values with keys, to describe properties of something\n",
    "- can index dictionary by 'key' to fetch and change the key's associated values\n",
    "- dictionammries can be created in many frms , some are below\n",
    " -- using curly braces {'key':'value'}\n",
    " -- dict('key':'value')\n",
    " -- dict(zip(['key1', 'key2', ..],['value1', 'value2', ..]))\n",
    " -- start with empty curly brcaes  D = {} and then add on key values\n",
    "- dictionaries also support nesting \n"
   ]
  },
  {
   "cell_type": "code",
   "execution_count": 3,
   "metadata": {
    "collapsed": false
   },
   "outputs": [
    {
     "data": {
      "text/plain": [
       "{'food': 'biryani', 'sideItem': 'chickpeas', 'soda': 'coke'}"
      ]
     },
     "execution_count": 3,
     "metadata": {},
     "output_type": "execute_result"
    }
   ],
   "source": [
    "##les create a dictionary of order\n",
    "D = {'food':'biryani', 'sideItem':\"chickpeas\", 'soda':\"coke\"}\n",
    "D"
   ]
  },
  {
   "cell_type": "code",
   "execution_count": 6,
   "metadata": {
    "collapsed": false
   },
   "outputs": [
    {
     "name": "stdout",
     "output_type": "stream",
     "text": [
      "shawarma\n"
     ]
    },
    {
     "data": {
      "text/plain": [
       "{'food': 'shawarma', 'sideItem': 'chickpeas', 'soda': 'coke'}"
      ]
     },
     "execution_count": 6,
     "metadata": {},
     "output_type": "execute_result"
    }
   ],
   "source": [
    "## lets fetch and change a value\n",
    "print( D['food'] )\n",
    "\n",
    "D['food'] = 'shawarma'\n",
    "\n",
    "D"
   ]
  },
  {
   "cell_type": "code",
   "execution_count": 7,
   "metadata": {
    "collapsed": false
   },
   "outputs": [
    {
     "data": {
      "text/plain": [
       "{'ACV': 1, 'apples': 2}"
      ]
     },
     "execution_count": 7,
     "metadata": {},
     "output_type": "execute_result"
    }
   ],
   "source": [
    "## an alternate way to build up dictonary\n",
    "X = {}\n",
    "X['apples'] = 2\n",
    "X['ACV'] = 1\n",
    "X"
   ]
  },
  {
   "cell_type": "code",
   "execution_count": 9,
   "metadata": {
    "collapsed": false
   },
   "outputs": [
    {
     "data": {
      "text/plain": [
       "{'ACV': 1, 'apples': 12}"
      ]
     },
     "execution_count": 9,
     "metadata": {},
     "output_type": "execute_result"
    }
   ],
   "source": [
    "## lets change quantity of X \n",
    "X['apples'] +=5\n",
    "X"
   ]
  },
  {
   "cell_type": "code",
   "execution_count": 10,
   "metadata": {
    "collapsed": false
   },
   "outputs": [
    {
     "data": {
      "text/plain": [
       "{'height': '6', 'name': 'Joe', 'weight': 140}"
      ]
     },
     "execution_count": 10,
     "metadata": {},
     "output_type": "execute_result"
    }
   ],
   "source": [
    "## we can also make dictionry by pasing to the dict type name\n",
    "\n",
    "Y = dict(name='Joe', height='6', weight= 140)\n",
    "Y"
   ]
  },
  {
   "cell_type": "code",
   "execution_count": 14,
   "metadata": {
    "collapsed": false
   },
   "outputs": [
    {
     "data": {
      "text/plain": [
       "{'height': 5, 'name': 'Doe', 'weight': 180}"
      ]
     },
     "execution_count": 14,
     "metadata": {},
     "output_type": "execute_result"
    }
   ],
   "source": [
    "## another way is to zip together sequnce of keys and values\n",
    "\n",
    "Z = dict(zip(['name', 'height', 'weight'], ['Doe', 5, 180]))\n",
    "Z\n"
   ]
  },
  {
   "cell_type": "code",
   "execution_count": 19,
   "metadata": {
    "collapsed": false
   },
   "outputs": [
    {
     "data": {
      "text/plain": [
       "{'age': 50,\n",
       " 'job': ['developer', 'manager'],\n",
       " 'name': {'first': 'Jane', 'last': 'Doe'}}"
      ]
     },
     "execution_count": 19,
     "metadata": {},
     "output_type": "execute_result"
    }
   ],
   "source": [
    "##nesting in dictionaries\n",
    "\n",
    "YY = {'name': {'first':'Jane', 'last':'Doe'},\n",
    "     'job': ['developer', 'manager'], \n",
    "     'age' :50}\n",
    "YY"
   ]
  },
  {
   "cell_type": "code",
   "execution_count": 21,
   "metadata": {
    "collapsed": false
   },
   "outputs": [
    {
     "data": {
      "text/plain": [
       "'Doe'"
      ]
     },
     "execution_count": 21,
     "metadata": {},
     "output_type": "execute_result"
    }
   ],
   "source": [
    "## lets see what's last name\n",
    "YY['name']['last']"
   ]
  },
  {
   "cell_type": "code",
   "execution_count": 23,
   "metadata": {
    "collapsed": false
   },
   "outputs": [
    {
     "data": {
      "text/plain": [
       "'manager'"
      ]
     },
     "execution_count": 23,
     "metadata": {},
     "output_type": "execute_result"
    }
   ],
   "source": [
    "##lets see what was the last job \n",
    "YY['job'][-1]"
   ]
  },
  {
   "cell_type": "code",
   "execution_count": 25,
   "metadata": {
    "collapsed": false
   },
   "outputs": [
    {
     "data": {
      "text/plain": [
       "['developer', 'manager', 'owner', 'owner']"
      ]
     },
     "execution_count": 25,
     "metadata": {},
     "output_type": "execute_result"
    }
   ],
   "source": [
    "## lets add another job \n",
    "\n",
    "YY['job'].append('owner')\n",
    "YY['job']\n",
    "\n",
    "## nested job list is able to expand/shrink because its a separate peice of memory from the dictionary YY"
   ]
  },
  {
   "cell_type": "markdown",
   "metadata": {},
   "source": [
    "## Missing Keys \n",
    "- dictionaris support accessing items by keys only\n",
    "- fetching a nonexsitent key is still a mistake and its usually a programming error \n",
    "- To avoid it one solution is to test ahead of time\n",
    "    -- the dictionary **in** expression allows to query the exsistence of a key \n",
    "    -- "
   ]
  }
 ],
 "metadata": {
  "kernelspec": {
   "display_name": "Python 2",
   "language": "python",
   "name": "python2"
  },
  "language_info": {
   "codemirror_mode": {
    "name": "ipython",
    "version": 2
   },
   "file_extension": ".py",
   "mimetype": "text/x-python",
   "name": "python",
   "nbconvert_exporter": "python",
   "pygments_lexer": "ipython2",
   "version": "2.7.13"
  }
 },
 "nbformat": 4,
 "nbformat_minor": 2
}
