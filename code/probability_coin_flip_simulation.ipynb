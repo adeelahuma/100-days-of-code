{
 "cells": [
  {
   "cell_type": "markdown",
   "metadata": {},
   "source": [
    "# Probability\n",
    "- Probability is the measure of likelihood of an event \n",
    "- number of desired occurances divided by total occurances\n",
    "-  $P(x) = \\frac{countOfDesiredOutcome}{ totalOutcomes}$\n",
    "- In case of flipping a fair coin, we have two possible outcomes: head and tail. The in terms of probability:\n",
    "    - $P(H) = 1/2$ , $P(T) = 1/2$\n",
    "    - 2 is the total outcomes, in this example we have head and tail \n",
    "\n",
    "\n",
    "*Note* : A fair coin is not biased, no matter how many times we flip it, it has equal probability of getting head and tail\n"
   ]
  },
  {
   "cell_type": "code",
   "execution_count": 1,
   "metadata": {},
   "outputs": [
    {
     "name": "stdout",
     "output_type": "stream",
     "text": [
      "Populating the interactive namespace from numpy and matplotlib\n"
     ]
    }
   ],
   "source": [
    "import numpy as np\n",
    "import pandas as pd\n",
    "%pylab inline"
   ]
  },
  {
   "cell_type": "markdown",
   "metadata": {},
   "source": [
    "### generate count function explanation\n",
    "The following function simulates 'k' coin flipping 'n' number of times. Here is the explanation of that:\n",
    "If we flip 2 coins 3 times our results will be something like below(assuming we have a fair coin and H/T are random events):\n",
    "\n",
    "coin1 = [H, T, T]\n",
    "coin2 = [T, T, H]\n",
    "\n",
    "Lets represent H=1 and T=-1\n",
    "If we do this experiment for large value of 'k' then we should get equal number of 'H' and 'T' and if we sum for each coin the total should be zero ideally.\n",
    "\n",
    "If we do row-wise sum we will get sun for each coin and the result will be   something like below (for above example):\n",
    "\n",
    "[-1, -1]\n",
    "\n",
    "each element in this array represnts the count for each coin. if we have two coins than 2 elemnets, if 10 then 10 elements and so on.\n"
   ]
  },
  {
   "cell_type": "code",
   "execution_count": 2,
   "metadata": {},
   "outputs": [],
   "source": [
    "# k = number of coin to flips\n",
    "# n = repeat flips *n* times\n",
    "def generate_count(k=10000, n=100):\n",
    "    X = 2*(np.random.rand(k,n)>0.5) -1\n",
    "    S = np.sum(X, axis=0)\n",
    "    return S"
   ]
  },
  {
   "cell_type": "code",
   "execution_count": 3,
   "metadata": {},
   "outputs": [
    {
     "name": "stdout",
     "output_type": "stream",
     "text": [
      "True\n"
     ]
    }
   ],
   "source": [
    "k = 1000\n",
    "n = 1000\n",
    "counts = generate_count(k=k,n=n)\n",
    "print(len(counts) == n)"
   ]
  },
  {
   "cell_type": "markdown",
   "metadata": {},
   "source": [
    "The histogram of above result shows that the value of sum is centered around zero, its not exactly zero, when $k \\to \\infty, sum \\to 0$"
   ]
  },
  {
   "cell_type": "code",
   "execution_count": 4,
   "metadata": {},
   "outputs": [
    {
     "data": {
      "image/png": "[encoded data removed]",
      "text/plain": [
       "<Figure size 432x288 with 1 Axes>"
      ]
     },
     "metadata": {},
     "output_type": "display_data"
    }
   ],
   "source": [
    "pylab.hist(counts)\n",
    "xlim([-k, k])\n",
    "xlabel(\"sum\")\n",
    "ylabel(\"count\")\n",
    "title('Histogram of coin flip sum when flipping a fair coin {} times'.format(k))\n",
    "grid()"
   ]
  },
  {
   "cell_type": "markdown",
   "metadata": {},
   "source": [
    "Let's run the same simulation for 100 coins by increasing value of 'k' and plot its histogram and analyze how it changes:\n"
   ]
  },
  {
   "cell_type": "code",
   "execution_count": 6,
   "metadata": {},
   "outputs": [
    {
     "data": {
      "image/png": "[encoded data removed]",
      "text/plain": [
       "<Figure size 1080x288 with 3 Axes>"
      ]
     },
     "metadata": {},
     "output_type": "display_data"
    }
   ],
   "source": [
    "figure(figsize=[15,4])\n",
    "for j in np.arange(2,5):\n",
    "    k = 10**j\n",
    "    counts = generate_count(k=k, n =100)\n",
    "    subplot(130+j-1)\n",
    "    pylab.hist(counts)\n",
    "    d=4*np.sqrt(k)\n",
    "    plot([-d,-d], [0,30], 'r')\n",
    "    plot([d,d], [0,30], 'r')\n",
    "    grid()\n",
    "    title('{} flips, +/- {} d'.format(k,d))\n",
    "    "
   ]
  },
  {
   "cell_type": "markdown",
   "metadata": {},
   "source": [
    "## histogram analysis\n",
    "- the sum is close to zero\n",
    "- the sum is almost always in range $ -4 \\sqrt{k}, +4\\sqrt{k}$\n",
    "- in the code above 'd' is used to plot red lines in the graph \n",
    "- in plot(x,y) function 'd' essentially tells how far red line should be on x-axis "
   ]
  },
  {
   "cell_type": "code",
   "execution_count": null,
   "metadata": {},
   "outputs": [],
   "source": []
  }
 ],
 "metadata": {
  "kernelspec": {
   "display_name": "Python 3",
   "language": "python",
   "name": "python3"
  },
  "language_info": {
   "codemirror_mode": {
    "name": "ipython",
    "version": 3
   },
   "file_extension": ".py",
   "mimetype": "text/x-python",
   "name": "python",
   "nbconvert_exporter": "python",
   "pygments_lexer": "ipython3",
   "version": "3.6.5"
  }
 },
 "nbformat": 4,
 "nbformat_minor": 2
}
