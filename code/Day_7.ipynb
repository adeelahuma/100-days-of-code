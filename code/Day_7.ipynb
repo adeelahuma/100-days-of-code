{
 "cells": [
  {
   "cell_type": "markdown",
   "metadata": {},
   "source": [
    "# 100DaysOfCode Day-7\n",
    "\n",
    "* Finished chapter 4th's remianing topics\n",
    "* Finished chapter 6"
   ]
  },
  {
   "cell_type": "markdown",
   "metadata": {},
   "source": [
    "\n",
    "## type built-in function\n",
    "* the 'type ' object returned by this function gives the type of another object \n",
    "* it also allows code to check the types of the objects it processes. There are three ways to do it:\n",
    "  * type testing using if \n",
    "  * using type name\n",
    "  * instanceOf (object oriented way) \n",
    "* Though this is almost wrong thing to do in python because:  by checking for specific types in your code, you effectively break its flexibility by limitig it to one type\n",
    "    * this is related to polymorphism\n",
    "    * in python we code to object interfaces not to types. we care what an object does, not what it is "
   ]
  },
  {
   "cell_type": "code",
   "execution_count": 1,
   "metadata": {},
   "outputs": [
    {
     "data": {
      "text/plain": [
       "list"
      ]
     },
     "execution_count": 1,
     "metadata": {},
     "output_type": "execute_result"
    }
   ],
   "source": [
    "#lets find out type of an object \n",
    "L = [1,2,3]\n",
    "type(L)"
   ]
  },
  {
   "cell_type": "code",
   "execution_count": 2,
   "metadata": {},
   "outputs": [
    {
     "name": "stdout",
     "output_type": "stream",
     "text": [
      "yes\n"
     ]
    }
   ],
   "source": [
    "## lets test type of object by if\n",
    "if (type(L) == type([])):\n",
    "    print('yes')\n"
   ]
  },
  {
   "cell_type": "code",
   "execution_count": 3,
   "metadata": {},
   "outputs": [
    {
     "name": "stdout",
     "output_type": "stream",
     "text": [
      "yes\n"
     ]
    }
   ],
   "source": [
    "## lets test by using type name\n",
    "if (type(L) == list):\n",
    "    print('yes')\n"
   ]
  },
  {
   "cell_type": "code",
   "execution_count": 4,
   "metadata": {},
   "outputs": [
    {
     "name": "stdout",
     "output_type": "stream",
     "text": [
      "yes\n"
     ]
    }
   ],
   "source": [
    "##lets test it object oriented way\n",
    "if isinstance(L, list):\n",
    "    print('yes')"
   ]
  },
  {
   "cell_type": "markdown",
   "metadata": {},
   "source": [
    "## User Defined Classes\n",
    "* classes define new types of objects that extend the core set\n",
    "* **self** is an implied subject in functions within a class\n",
    "* classes inheritance mechanism supports software hierarchies\n",
    "* More to come in future chapters"
   ]
  },
  {
   "cell_type": "code",
   "execution_count": 5,
   "metadata": {},
   "outputs": [],
   "source": [
    "##lets create an Employee type\n",
    "class Employee:\n",
    "    def __init__(self, name, age):\n",
    "        self.name = name\n",
    "        self.age = age \n",
    "    def lastName(self):\n",
    "        return self.name.split()[:-1]\n",
    "        \n",
    "    "
   ]
  },
  {
   "cell_type": "code",
   "execution_count": 6,
   "metadata": {},
   "outputs": [
    {
     "data": {
      "text/plain": [
       "['Ana']"
      ]
     },
     "execution_count": 6,
     "metadata": {},
     "output_type": "execute_result"
    }
   ],
   "source": [
    "## lets create an employee\n",
    "ana = Employee('Ana Smith', 25)\n",
    "\n",
    "ana.lastName()"
   ]
  },
  {
   "cell_type": "markdown",
   "metadata": {},
   "source": [
    "# The Dynamic Typing Interlude (Chapter 6)\n",
    "## Missing Declaration Statements\n",
    "* Java, C, C++ are compiled or statistically typed languages\n",
    "* in Python, we are using variables w/o declaring their types and why does it work? How does python know the type of variable?\n",
    "  * Python's dynamic typing model: types are determined automatically at runtime not in response to declarations in code\n",
    "\n",
    "### Variables, Objects, Refrences\n",
    "\n",
    "* Variable is created when code first assigns it a value\n",
    "* Variable **never** has any type information or constraint associated with it. The **notion of type lives with objects**, not names\n",
    "* varaibles **refer** to a particular object at a particular point in time\n",
    "* whan a variable appears in an expression, it is immediately replaced with the object that it currently refers to\n",
    "* variables and objects are stored in different parts of memory and are associated by links (also known as **refrences**)\n",
    "* variables always link to objects and **never** to other varaibles\n",
    "* variables are entries in system table, with spaces for links to objects\n",
    "* python internally **caches** and reuses certain kind of unchangeable objects such as small integers and strings\n",
    "* each object has two standard header feilds:\n",
    "    * a type designator - used to mark the type of the object  \n",
    "    * reference counter - used to determine when its okay to reclaim the object\n",
    "* types are associated with objects\n",
    "\n",
    "For below statement, \n",
    "1. creates an object to represnt 3\n",
    "2. create the variable a\n",
    "3. link the varaible 'a' to the object 3"
   ]
  },
  {
   "cell_type": "code",
   "execution_count": 7,
   "metadata": {},
   "outputs": [],
   "source": [
    "## lets create a varaible and unpack what happens in memory \n",
    "a = 3"
   ]
  },
  {
   "cell_type": "markdown",
   "metadata": {},
   "source": [
    "### Types live with Objects not variables  \n",
    "In the below example 'a' is **referenced** to point different objects. Because varaibles have no type, we haven't changed the type of variable 'a', we've simply made the varaible reference a different type of object"
   ]
  },
  {
   "cell_type": "code",
   "execution_count": 8,
   "metadata": {},
   "outputs": [],
   "source": [
    "a = 2\n",
    "a = 'spam'"
   ]
  },
  {
   "cell_type": "markdown",
   "metadata": {},
   "source": [
    "### Objects are Garbage-Collected\n",
    "\n",
    "* In the previous example, one may wonder what happens to 2 when 'a' is assigned to 'spam'? The space held by prior object (in this case 2) is reclaimed if it is not referenced by any other name ... this process is known as garbage collection\n",
    "* python accomplishes this by keeping a counter in every object that keeps track of number of refrences currently pointing to that object. \n",
    "* as soon as the refrence count drops to zero ,that object's memory space is recalimed by GC"
   ]
  },
  {
   "cell_type": "markdown",
   "metadata": {},
   "source": [
    "### Shared Refrences \n",
    "* In below code, to create varaible 'b', python replaces 'a' with the object it refrences. Now 'a' and 'b' refer to the same object... this is called shared refrence or shared object\n",
    "* names 'a' and 'b' are not linked to each other\n",
    "* python variables are always pointers to objects ; setting a variable to a new value does not alter the object, but causes the varaible to refrence a different object"
   ]
  },
  {
   "cell_type": "code",
   "execution_count": 9,
   "metadata": {},
   "outputs": [],
   "source": [
    "a = 3\n",
    "b = a"
   ]
  },
  {
   "cell_type": "markdown",
   "metadata": {},
   "source": [
    "### Shared Refrences and In-Place changes\n",
    "* In-place changes to mutable objects (lists, dictionaries and sets), changes from one varaible will affect others.\n",
    "* For example in below example, the list object is shared by other variables, an in-place change does not only impact L1 but also L2\n",
    "* To avoid such behavior, use Python's copy module instead of making refrences \n",
    "* Also slicing technique won't work on dictionaries/sets because they are not sequnces; used copy module"
   ]
  },
  {
   "cell_type": "code",
   "execution_count": 10,
   "metadata": {},
   "outputs": [
    {
     "name": "stdout",
     "output_type": "stream",
     "text": [
      "[100, 2, 3]\n",
      "[100, 2, 3]\n"
     ]
    }
   ],
   "source": [
    "##lets see how in place chnages in list with shared refrences \n",
    "L1 = [1,2,3]\n",
    "L2 = L1  ## L1 and L2 reference the same shared object\n",
    "\n",
    "## now lets make an in-place change \n",
    "\n",
    "L1[0] = 100\n",
    "\n",
    "##lets see values of list L1 and L2\n",
    "print(L1)\n",
    "print(L2)"
   ]
  },
  {
   "cell_type": "code",
   "execution_count": 11,
   "metadata": {},
   "outputs": [
    {
     "name": "stdout",
     "output_type": "stream",
     "text": [
      "[200, 2, 3]\n",
      "[100, 2, 3]\n"
     ]
    }
   ],
   "source": [
    "## lets copy L1 to L2\n",
    "L2 = L1[:] ## slice returns a new list object \n",
    "L1[0] = 200\n",
    "\n",
    "print(L1)\n",
    "print(L2)"
   ]
  },
  {
   "cell_type": "markdown",
   "metadata": {},
   "source": [
    "### Shared Refrences and Inequality \n",
    "* There are two different ways to check for equality in a python program :\n",
    " * == (to check if values are same)\n",
    " * is ( to check if objects are same)"
   ]
  },
  {
   "cell_type": "code",
   "execution_count": 12,
   "metadata": {},
   "outputs": [
    {
     "name": "stdout",
     "output_type": "stream",
     "text": [
      "True\n",
      "True\n"
     ]
    }
   ],
   "source": [
    "## case when both objects and values are same\n",
    "X = [1,2,3]\n",
    "Y = X\n",
    "\n",
    "# lets check \n",
    "\n",
    "print( Y == X )  ## checeks if values are same \n",
    "\n",
    "print( Y is X ) ## checks if objects are same"
   ]
  },
  {
   "cell_type": "code",
   "execution_count": 13,
   "metadata": {},
   "outputs": [
    {
     "name": "stdout",
     "output_type": "stream",
     "text": [
      "True\n",
      "False\n"
     ]
    }
   ],
   "source": [
    "Z = [1,2,3]\n",
    "A = [1,2,3]\n",
    "\n",
    "# lets check \n",
    "\n",
    "print( Z == A ) ## checeks if values are same \n",
    "\n",
    "print( Z is A ) ## checks if objects are same"
   ]
  }
 ],
 "metadata": {
  "kernelspec": {
   "display_name": "Python 3",
   "language": "python",
   "name": "python3"
  },
  "language_info": {
   "codemirror_mode": {
    "name": "ipython",
    "version": 3
   },
   "file_extension": ".py",
   "mimetype": "text/x-python",
   "name": "python",
   "nbconvert_exporter": "python",
   "pygments_lexer": "ipython3",
   "version": "3.6.5"
  }
 },
 "nbformat": 4,
 "nbformat_minor": 2
}
