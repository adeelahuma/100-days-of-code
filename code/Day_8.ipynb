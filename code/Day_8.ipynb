{
 "cells": [
  {
   "cell_type": "markdown",
   "metadata": {},
   "source": [
    "# 100DaysOfCode Day-8\n",
    "\n",
    "Finished reading Chapter 16 (Python Functions)\n",
    "\n",
    "* in python there are two ways to make functions: **def and lambda**\n",
    "* two ways to manage scope visibility : **global and nonlocal**\n",
    "* two ways to send result back to caller: **return and yeild**\n",
    "\n",
    "## Coding Functions\n",
    "* def is excutable code \n",
    "    * function does not exist until python reaches and runs the def. \n",
    "    * Its legal to nest **def** statements inside if /while and other defs\n",
    "* def creates an object and assign it to a name\n",
    "    * when python runs a def statement, it generates a new **function object** and assigns it to the **function' name**. the function's name becomes a reference to the function object \n",
    "* lambda creates an object but returns it as a result\n",
    "* yeild sends a result object back to the caller, but remembers where it left off\n",
    "* global declares module level variables\n",
    "* nonlocal declares enclosing function variables that are to be assigned \n",
    "    * allows function to retain state w/o using shared global variable\n",
    "* Arguments are passed by assignment(object reference)\n",
    "* def are not evaluated until they are reached and run \n",
    "* code inside defs is not evaluated until the functions are later called\n",
    "* function defination happens at runtime, there's nothing special about function name, what's important is the object to which it refers"
   ]
  },
  {
   "cell_type": "code",
   "execution_count": 1,
   "metadata": {},
   "outputs": [
    {
     "name": "stdout",
     "output_type": "stream",
     "text": [
      "false\n"
     ]
    }
   ],
   "source": [
    "## lets create a def inside an if statement to select between alternative definations:\n",
    "test = False\n",
    "if test:\n",
    "    def func():\n",
    "        print('true')\n",
    "else:\n",
    "    def func():\n",
    "        print('false')\n",
    "\n",
    "## lets call func\n",
    "func()"
   ]
  },
  {
   "cell_type": "code",
   "execution_count": 2,
   "metadata": {},
   "outputs": [
    {
     "name": "stdout",
     "output_type": "stream",
     "text": [
      "false\n"
     ]
    }
   ],
   "source": [
    "#function defination happens at runtime, there's nothing special about function name, \n",
    "# what's important is the object to which it refers\n",
    "## lets assign function object to different name\n",
    "othername = func\n",
    "othername()"
   ]
  },
  {
   "cell_type": "code",
   "execution_count": null,
   "metadata": {},
   "outputs": [],
   "source": []
  }
 ],
 "metadata": {
  "kernelspec": {
   "display_name": "Python 3",
   "language": "python",
   "name": "python3"
  },
  "language_info": {
   "codemirror_mode": {
    "name": "ipython",
    "version": 3
   },
   "file_extension": ".py",
   "mimetype": "text/x-python",
   "name": "python",
   "nbconvert_exporter": "python",
   "pygments_lexer": "ipython3",
   "version": "3.6.5"
  }
 },
 "nbformat": 4,
 "nbformat_minor": 2
}
